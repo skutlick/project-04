{
 "cells": [
  {
   "cell_type": "code",
   "execution_count": 1,
   "id": "16ed8fab-e5d1-4e19-bead-219098180e12",
   "metadata": {},
   "outputs": [],
   "source": [
    "import pandas as pd\n"
   ]
  },
  {
   "cell_type": "code",
   "execution_count": 2,
   "id": "c6bfe7d4-5323-46b9-adc6-bbdffe7978a1",
   "metadata": {},
   "outputs": [
    {
     "name": "stderr",
     "output_type": "stream",
     "text": [
      "C:\\Users\\solan\\AppData\\Local\\Temp\\ipykernel_3956\\3486490049.py:1: DtypeWarning: Columns (1,3) have mixed types. Specify dtype option on import or set low_memory=False.\n",
      "  data=pd.read_csv('./resources/Berlin_Marathon_data_1974_2019.csv')\n"
     ]
    }
   ],
   "source": [
    "data=pd.read_csv('./resources/Berlin_Marathon_data_1974_2019.csv')\n",
    "\n",
    "df = pd.DataFrame(data)"
   ]
  },
  {
   "cell_type": "code",
   "execution_count": 3,
   "id": "ffd774b0-697b-48c0-843d-18038690e295",
   "metadata": {
    "scrolled": true
   },
   "outputs": [
    {
     "data": {
      "text/html": [
       "<div>\n",
       "<style scoped>\n",
       "    .dataframe tbody tr th:only-of-type {\n",
       "        vertical-align: middle;\n",
       "    }\n",
       "\n",
       "    .dataframe tbody tr th {\n",
       "        vertical-align: top;\n",
       "    }\n",
       "\n",
       "    .dataframe thead th {\n",
       "        text-align: right;\n",
       "    }\n",
       "</style>\n",
       "<table border=\"1\" class=\"dataframe\">\n",
       "  <thead>\n",
       "    <tr style=\"text-align: right;\">\n",
       "      <th></th>\n",
       "      <th>YEAR</th>\n",
       "      <th>COUNTRY</th>\n",
       "      <th>GENDER</th>\n",
       "      <th>AGE</th>\n",
       "      <th>TIME</th>\n",
       "    </tr>\n",
       "  </thead>\n",
       "  <tbody>\n",
       "    <tr>\n",
       "      <th>0</th>\n",
       "      <td>1974</td>\n",
       "      <td>NaN</td>\n",
       "      <td>male</td>\n",
       "      <td>L1</td>\n",
       "      <td>02:44:53</td>\n",
       "    </tr>\n",
       "    <tr>\n",
       "      <th>1</th>\n",
       "      <td>1974</td>\n",
       "      <td>NaN</td>\n",
       "      <td>male</td>\n",
       "      <td>L2</td>\n",
       "      <td>02:46:43</td>\n",
       "    </tr>\n",
       "    <tr>\n",
       "      <th>2</th>\n",
       "      <td>1974</td>\n",
       "      <td>NaN</td>\n",
       "      <td>male</td>\n",
       "      <td>L2</td>\n",
       "      <td>02:48:08</td>\n",
       "    </tr>\n",
       "    <tr>\n",
       "      <th>3</th>\n",
       "      <td>1974</td>\n",
       "      <td>NaN</td>\n",
       "      <td>male</td>\n",
       "      <td>L</td>\n",
       "      <td>02:48:40</td>\n",
       "    </tr>\n",
       "    <tr>\n",
       "      <th>4</th>\n",
       "      <td>1974</td>\n",
       "      <td>NaN</td>\n",
       "      <td>male</td>\n",
       "      <td>L1</td>\n",
       "      <td>02:49:01</td>\n",
       "    </tr>\n",
       "  </tbody>\n",
       "</table>\n",
       "</div>"
      ],
      "text/plain": [
       "   YEAR COUNTRY GENDER AGE      TIME\n",
       "0  1974     NaN   male  L1  02:44:53\n",
       "1  1974     NaN   male  L2  02:46:43\n",
       "2  1974     NaN   male  L2  02:48:08\n",
       "3  1974     NaN   male   L  02:48:40\n",
       "4  1974     NaN   male  L1  02:49:01"
      ]
     },
     "execution_count": 3,
     "metadata": {},
     "output_type": "execute_result"
    }
   ],
   "source": [
    "df.head()"
   ]
  },
  {
   "cell_type": "code",
   "execution_count": 6,
   "id": "807244fc-aa58-4f3a-882c-417d841eec2e",
   "metadata": {},
   "outputs": [
    {
     "data": {
      "text/html": [
       "<div>\n",
       "<style scoped>\n",
       "    .dataframe tbody tr th:only-of-type {\n",
       "        vertical-align: middle;\n",
       "    }\n",
       "\n",
       "    .dataframe tbody tr th {\n",
       "        vertical-align: top;\n",
       "    }\n",
       "\n",
       "    .dataframe thead th {\n",
       "        text-align: right;\n",
       "    }\n",
       "</style>\n",
       "<table border=\"1\" class=\"dataframe\">\n",
       "  <thead>\n",
       "    <tr style=\"text-align: right;\">\n",
       "      <th></th>\n",
       "      <th>YEAR</th>\n",
       "      <th>COUNTRY</th>\n",
       "      <th>GENDER</th>\n",
       "      <th>AGE</th>\n",
       "      <th>TIME</th>\n",
       "    </tr>\n",
       "  </thead>\n",
       "  <tbody>\n",
       "    <tr>\n",
       "      <th>854148</th>\n",
       "      <td>2019</td>\n",
       "      <td>ETH</td>\n",
       "      <td>male</td>\n",
       "      <td>35.0</td>\n",
       "      <td>02:01:41</td>\n",
       "    </tr>\n",
       "    <tr>\n",
       "      <th>854149</th>\n",
       "      <td>2019</td>\n",
       "      <td>ETH</td>\n",
       "      <td>male</td>\n",
       "      <td>20.0</td>\n",
       "      <td>02:02:48</td>\n",
       "    </tr>\n",
       "    <tr>\n",
       "      <th>854150</th>\n",
       "      <td>2019</td>\n",
       "      <td>ETH</td>\n",
       "      <td>male</td>\n",
       "      <td>20.0</td>\n",
       "      <td>02:03:36</td>\n",
       "    </tr>\n",
       "    <tr>\n",
       "      <th>854151</th>\n",
       "      <td>2019</td>\n",
       "      <td>KEN</td>\n",
       "      <td>male</td>\n",
       "      <td>30.0</td>\n",
       "      <td>02:06:45</td>\n",
       "    </tr>\n",
       "    <tr>\n",
       "      <th>854152</th>\n",
       "      <td>2019</td>\n",
       "      <td>KEN</td>\n",
       "      <td>male</td>\n",
       "      <td>30.0</td>\n",
       "      <td>02:08:07</td>\n",
       "    </tr>\n",
       "  </tbody>\n",
       "</table>\n",
       "</div>"
      ],
      "text/plain": [
       "        YEAR COUNTRY GENDER   AGE      TIME\n",
       "854148  2019     ETH   male  35.0  02:01:41\n",
       "854149  2019     ETH   male  20.0  02:02:48\n",
       "854150  2019     ETH   male  20.0  02:03:36\n",
       "854151  2019     KEN   male  30.0  02:06:45\n",
       "854152  2019     KEN   male  30.0  02:08:07"
      ]
     },
     "execution_count": 6,
     "metadata": {},
     "output_type": "execute_result"
    }
   ],
   "source": [
    "marathon_df = df[df['YEAR'] == 2019]\n",
    "marathon_df.head()"
   ]
  },
  {
   "cell_type": "code",
   "execution_count": 8,
   "id": "ac2e8da4-d740-4e63-9a31-01f00d982a14",
   "metadata": {},
   "outputs": [
    {
     "data": {
      "text/plain": [
       "array(['ETH', 'KEN', 'ERI', 'CHN', 'JPN', 'AUT', 'ITA', 'USA', 'SWE',\n",
       "       'GBR', 'TUR', 'NED', 'IRL', 'ISR', 'MAR', 'FRA', 'CZE', 'BEL',\n",
       "       'GER', 'MEX', 'LTU', 'KOR', 'SUI', 'NOR', 'LAT', 'TWN', 'GUA',\n",
       "       'ROU', 'GRE', 'MGL', 'FIN', 'JOR', 'ZAM', 'ESP', 'PUR', 'HKG',\n",
       "       'RUS', 'COL', 'CAN', 'UKR', 'RSA', 'ARG', 'CHI', 'HUN', 'SUD',\n",
       "       'BRA', 'EST', 'AUS', 'ISL', 'POR', 'DEN', 'CRC', 'POL', 'MLT',\n",
       "       'PER', 'SVK', 'LUX', 'LIB', 'SLO', 'CRO', 'VEN', 'BLR', 'MDA',\n",
       "       'ECU', 'NZL', 'THA', 'BAH', 'ARM', 'VIE', 'ENG', 'DOM', 'IND',\n",
       "       'ALG', 'NIR', 'KAZ', 'MAS', 'SRB', 'MKD', 'SIN', 'PAR', 'BOL',\n",
       "       'URU', 'PAN', 'TAN', 'TUN', 'CMR', 'BIH', 'BAR', 'PLE', 'ESA',\n",
       "       'INA', 'GAM', 'CYP', 'REU', 'MAC', 'UZB', 'LAO', 'BUL', 'IRI',\n",
       "       'EGY', 'GHA', 'MON', 'AND', 'ARU', 'ZIM', 'GLP', 'KUW', 'AFG',\n",
       "       'PHI', 'TOG', 'UGA', 'HON', 'SCO', 'COD', 'NEP', 'SRI', 'SYR',\n",
       "       'LIE', 'MNE', 'BOT', 'PRK', 'TRI', 'GGY', 'FRO', 'WLS', 'UAE',\n",
       "       'MDV', 'CAY', 'CUB', 'AZE', 'QAT', 'ALB', 'NCA', 'BER', 'NAM',\n",
       "       'JAM', 'CGO', 'CUW', 'DJI', 'KSA', 'PAK', 'IRQ', 'SUR', 'MYA',\n",
       "       'NGR'], dtype=object)"
      ]
     },
     "execution_count": 8,
     "metadata": {},
     "output_type": "execute_result"
    }
   ],
   "source": [
    "marathon_df['COUNTRY'].unique()"
   ]
  },
  {
   "cell_type": "code",
   "execution_count": 10,
   "id": "77be56f2-f0b5-4429-bda0-af0e1c087e36",
   "metadata": {},
   "outputs": [],
   "source": [
    "marathon_df.to_csv('output_data/marathon_df')"
   ]
  },
  {
   "cell_type": "code",
   "execution_count": null,
   "id": "967ab148-dd39-474c-b72a-c8ed3a92f91e",
   "metadata": {},
   "outputs": [],
   "source": []
  }
 ],
 "metadata": {
  "kernelspec": {
   "display_name": "Python 3 (ipykernel)",
   "language": "python",
   "name": "python3"
  },
  "language_info": {
   "codemirror_mode": {
    "name": "ipython",
    "version": 3
   },
   "file_extension": ".py",
   "mimetype": "text/x-python",
   "name": "python",
   "nbconvert_exporter": "python",
   "pygments_lexer": "ipython3",
   "version": "3.11.7"
  }
 },
 "nbformat": 4,
 "nbformat_minor": 5
}
